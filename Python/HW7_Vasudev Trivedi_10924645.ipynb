{
 "cells": [
  {
   "cell_type": "markdown",
   "metadata": {},
   "source": [
    "<p style=\"font-family: Arial; font-size:3.75em;color:purple; font-style:bold\"><br>\n",
    "BCIS5110 Exam 2\n",
    "</p><br>"
   ]
  },
  {
   "cell_type": "code",
   "execution_count": 1,
   "metadata": {},
   "outputs": [],
   "source": [
    "from IPython.core.interactiveshell import InteractiveShell\n",
    "InteractiveShell.ast_node_interactivity = \"all\""
   ]
  },
  {
   "cell_type": "code",
   "execution_count": 13,
   "metadata": {},
   "outputs": [],
   "source": [
    "import numpy as np #For Alegbra\n",
    "import pandas as pd #For Data Processing\n",
    "import matplotlib.pyplot as plt #Data Visualization\n",
    "import seaborn as sns #Data Visualization\n",
    "\n",
    "from sklearn.preprocessing import MinMaxScaler #Preprocessing\n",
    "from sklearn.model_selection import train_test_split #Preprocessing\n",
    "\n",
    "from sklearn.linear_model import LogisticRegression\n",
    "from sklearn.tree import DecisionTreeRegressor\n",
    "from sklearn.metrics import accuracy_score"
   ]
  },
  {
   "cell_type": "markdown",
   "metadata": {},
   "source": [
    "<p style=\"font-family: Arial; font-size:2.75em;color:purple; font-style:bold\"><br>\n",
    "\n",
    "Question 1 <br><br></p>\n",
    "<p>Import 'falldetection.csv'. The data contains the information about elderly people's movement. Meanwhile, the data records real-time vitals from their wearable devices.</p>\n",
    "<p>The \"Activity\" variable indicates the movement type: 0- Standing 1- Walking 2- Sitting 3- Falling 4- Cramps 5- Running.</p>\n",
    "<p>The other variables are as follows:<br>\n",
    "TIME - monitoring time<br>\n",
    "SL - sugar level<br>\n",
    "EEG - EEG monitoring rate<br>\n",
    "BP - Blood pressure<br>\n",
    "HR - Heart beat rate<br>\n",
    "CIRCLUATION - Blood circulation<br></p>\n",
    "<p>Train a classification model to detect falling.<br>\n",
    "    1. You may want to transform \"Activity\" variable into two categories about falling.(10 points)<br> \n",
    "    2. Use two different methods to train. Which one is better in terms of accuracy scores on test dataset? (20 points) </p>"
   ]
  },
  {
   "cell_type": "code",
   "execution_count": 3,
   "metadata": {},
   "outputs": [
    {
     "data": {
      "text/html": [
       "<div>\n",
       "<style scoped>\n",
       "    .dataframe tbody tr th:only-of-type {\n",
       "        vertical-align: middle;\n",
       "    }\n",
       "\n",
       "    .dataframe tbody tr th {\n",
       "        vertical-align: top;\n",
       "    }\n",
       "\n",
       "    .dataframe thead th {\n",
       "        text-align: right;\n",
       "    }\n",
       "</style>\n",
       "<table border=\"1\" class=\"dataframe\">\n",
       "  <thead>\n",
       "    <tr style=\"text-align: right;\">\n",
       "      <th></th>\n",
       "      <th>activity</th>\n",
       "      <th>time</th>\n",
       "      <th>sl</th>\n",
       "      <th>eeg</th>\n",
       "      <th>bp</th>\n",
       "      <th>hr</th>\n",
       "      <th>circluation</th>\n",
       "    </tr>\n",
       "  </thead>\n",
       "  <tbody>\n",
       "    <tr>\n",
       "      <th>0</th>\n",
       "      <td>3</td>\n",
       "      <td>4722.92</td>\n",
       "      <td>4019.64</td>\n",
       "      <td>-1600.00</td>\n",
       "      <td>13</td>\n",
       "      <td>79</td>\n",
       "      <td>317</td>\n",
       "    </tr>\n",
       "    <tr>\n",
       "      <th>1</th>\n",
       "      <td>2</td>\n",
       "      <td>4059.12</td>\n",
       "      <td>2191.03</td>\n",
       "      <td>-1146.08</td>\n",
       "      <td>20</td>\n",
       "      <td>54</td>\n",
       "      <td>165</td>\n",
       "    </tr>\n",
       "    <tr>\n",
       "      <th>2</th>\n",
       "      <td>2</td>\n",
       "      <td>4773.56</td>\n",
       "      <td>2787.99</td>\n",
       "      <td>-1263.38</td>\n",
       "      <td>46</td>\n",
       "      <td>67</td>\n",
       "      <td>224</td>\n",
       "    </tr>\n",
       "    <tr>\n",
       "      <th>3</th>\n",
       "      <td>4</td>\n",
       "      <td>8271.27</td>\n",
       "      <td>9545.98</td>\n",
       "      <td>-2848.93</td>\n",
       "      <td>26</td>\n",
       "      <td>138</td>\n",
       "      <td>554</td>\n",
       "    </tr>\n",
       "    <tr>\n",
       "      <th>4</th>\n",
       "      <td>4</td>\n",
       "      <td>7102.16</td>\n",
       "      <td>14148.80</td>\n",
       "      <td>-2381.15</td>\n",
       "      <td>85</td>\n",
       "      <td>120</td>\n",
       "      <td>809</td>\n",
       "    </tr>\n",
       "  </tbody>\n",
       "</table>\n",
       "</div>"
      ],
      "text/plain": [
       "   activity     time        sl      eeg  bp   hr  circluation\n",
       "0         3  4722.92   4019.64 -1600.00  13   79          317\n",
       "1         2  4059.12   2191.03 -1146.08  20   54          165\n",
       "2         2  4773.56   2787.99 -1263.38  46   67          224\n",
       "3         4  8271.27   9545.98 -2848.93  26  138          554\n",
       "4         4  7102.16  14148.80 -2381.15  85  120          809"
      ]
     },
     "execution_count": 3,
     "metadata": {},
     "output_type": "execute_result"
    }
   ],
   "source": [
    "data_q1 = pd.read_csv('falldetection.csv')\n",
    "data_q1.columns = [x.lower().strip() for x in data_q1.columns]\n",
    "data_q1.head()"
   ]
  },
  {
   "cell_type": "code",
   "execution_count": 4,
   "metadata": {},
   "outputs": [
    {
     "data": {
      "text/plain": [
       "array([3, 2, 4, 5, 0, 1], dtype=int64)"
      ]
     },
     "execution_count": 4,
     "metadata": {},
     "output_type": "execute_result"
    },
    {
     "name": "stdout",
     "output_type": "stream",
     "text": [
      "0    4608\n",
      "1     502\n",
      "2    2502\n",
      "3    3588\n",
      "4    3494\n",
      "5    1688\n",
      "Name: activity, dtype: int64\n"
     ]
    }
   ],
   "source": [
    "d = data_q1[\"activity\"].value_counts().sort_index()\n",
    "data_q1['activity'].unique()\n",
    "print(d)"
   ]
  },
  {
   "cell_type": "code",
   "execution_count": 5,
   "metadata": {},
   "outputs": [
    {
     "data": {
      "text/plain": [
       "activity       0\n",
       "time           0\n",
       "sl             0\n",
       "eeg            0\n",
       "bp             0\n",
       "hr             0\n",
       "circluation    0\n",
       "dtype: int64"
      ]
     },
     "execution_count": 5,
     "metadata": {},
     "output_type": "execute_result"
    }
   ],
   "source": [
    "data_q1.isnull().sum()"
   ]
  },
  {
   "cell_type": "code",
   "execution_count": 6,
   "metadata": {},
   "outputs": [
    {
     "data": {
      "text/html": [
       "<div>\n",
       "<style scoped>\n",
       "    .dataframe tbody tr th:only-of-type {\n",
       "        vertical-align: middle;\n",
       "    }\n",
       "\n",
       "    .dataframe tbody tr th {\n",
       "        vertical-align: top;\n",
       "    }\n",
       "\n",
       "    .dataframe thead th {\n",
       "        text-align: right;\n",
       "    }\n",
       "</style>\n",
       "<table border=\"1\" class=\"dataframe\">\n",
       "  <thead>\n",
       "    <tr style=\"text-align: right;\">\n",
       "      <th></th>\n",
       "      <th>activity</th>\n",
       "      <th>time</th>\n",
       "      <th>sl</th>\n",
       "      <th>eeg</th>\n",
       "      <th>bp</th>\n",
       "      <th>hr</th>\n",
       "      <th>circluation</th>\n",
       "    </tr>\n",
       "  </thead>\n",
       "  <tbody>\n",
       "    <tr>\n",
       "      <th>0</th>\n",
       "      <td>1</td>\n",
       "      <td>4722.92</td>\n",
       "      <td>4019.64</td>\n",
       "      <td>-1600.00</td>\n",
       "      <td>13</td>\n",
       "      <td>79</td>\n",
       "      <td>317</td>\n",
       "    </tr>\n",
       "    <tr>\n",
       "      <th>1</th>\n",
       "      <td>0</td>\n",
       "      <td>4059.12</td>\n",
       "      <td>2191.03</td>\n",
       "      <td>-1146.08</td>\n",
       "      <td>20</td>\n",
       "      <td>54</td>\n",
       "      <td>165</td>\n",
       "    </tr>\n",
       "    <tr>\n",
       "      <th>2</th>\n",
       "      <td>0</td>\n",
       "      <td>4773.56</td>\n",
       "      <td>2787.99</td>\n",
       "      <td>-1263.38</td>\n",
       "      <td>46</td>\n",
       "      <td>67</td>\n",
       "      <td>224</td>\n",
       "    </tr>\n",
       "    <tr>\n",
       "      <th>3</th>\n",
       "      <td>0</td>\n",
       "      <td>8271.27</td>\n",
       "      <td>9545.98</td>\n",
       "      <td>-2848.93</td>\n",
       "      <td>26</td>\n",
       "      <td>138</td>\n",
       "      <td>554</td>\n",
       "    </tr>\n",
       "    <tr>\n",
       "      <th>4</th>\n",
       "      <td>0</td>\n",
       "      <td>7102.16</td>\n",
       "      <td>14148.80</td>\n",
       "      <td>-2381.15</td>\n",
       "      <td>85</td>\n",
       "      <td>120</td>\n",
       "      <td>809</td>\n",
       "    </tr>\n",
       "  </tbody>\n",
       "</table>\n",
       "</div>"
      ],
      "text/plain": [
       "   activity     time        sl      eeg  bp   hr  circluation\n",
       "0         1  4722.92   4019.64 -1600.00  13   79          317\n",
       "1         0  4059.12   2191.03 -1146.08  20   54          165\n",
       "2         0  4773.56   2787.99 -1263.38  46   67          224\n",
       "3         0  8271.27   9545.98 -2848.93  26  138          554\n",
       "4         0  7102.16  14148.80 -2381.15  85  120          809"
      ]
     },
     "execution_count": 6,
     "metadata": {},
     "output_type": "execute_result"
    }
   ],
   "source": [
    "def new_category(value):\n",
    "    if value ==3:\n",
    "        return 1\n",
    "    else:\n",
    "        return 0\n",
    "data_q1['activity'] = data_q1['activity'].apply(lambda x: new_category(x))\n",
    "data_q1.head()"
   ]
  },
  {
   "cell_type": "code",
   "execution_count": 7,
   "metadata": {},
   "outputs": [
    {
     "name": "stdout",
     "output_type": "stream",
     "text": [
      "(16382, 6)\n",
      "(16382,)\n"
     ]
    }
   ],
   "source": [
    "y = data_q1['activity']\n",
    "X = data_q1.drop('activity', axis =1)\n",
    "print(X.shape)\n",
    "print(y.shape)"
   ]
  },
  {
   "cell_type": "code",
   "execution_count": 8,
   "metadata": {},
   "outputs": [
    {
     "data": {
      "text/html": [
       "<div>\n",
       "<style scoped>\n",
       "    .dataframe tbody tr th:only-of-type {\n",
       "        vertical-align: middle;\n",
       "    }\n",
       "\n",
       "    .dataframe tbody tr th {\n",
       "        vertical-align: top;\n",
       "    }\n",
       "\n",
       "    .dataframe thead th {\n",
       "        text-align: right;\n",
       "    }\n",
       "</style>\n",
       "<table border=\"1\" class=\"dataframe\">\n",
       "  <thead>\n",
       "    <tr style=\"text-align: right;\">\n",
       "      <th></th>\n",
       "      <th>0</th>\n",
       "      <th>1</th>\n",
       "      <th>2</th>\n",
       "      <th>3</th>\n",
       "      <th>4</th>\n",
       "      <th>5</th>\n",
       "    </tr>\n",
       "  </thead>\n",
       "  <tbody>\n",
       "    <tr>\n",
       "      <th>0</th>\n",
       "      <td>0.056572</td>\n",
       "      <td>0.001639</td>\n",
       "      <td>0.899430</td>\n",
       "      <td>0.024390</td>\n",
       "      <td>0.048269</td>\n",
       "      <td>0.005976</td>\n",
       "    </tr>\n",
       "    <tr>\n",
       "      <th>1</th>\n",
       "      <td>0.043008</td>\n",
       "      <td>0.000886</td>\n",
       "      <td>0.899462</td>\n",
       "      <td>0.037523</td>\n",
       "      <td>0.022036</td>\n",
       "      <td>0.003065</td>\n",
       "    </tr>\n",
       "    <tr>\n",
       "      <th>2</th>\n",
       "      <td>0.057606</td>\n",
       "      <td>0.001132</td>\n",
       "      <td>0.899454</td>\n",
       "      <td>0.086304</td>\n",
       "      <td>0.035677</td>\n",
       "      <td>0.004195</td>\n",
       "    </tr>\n",
       "    <tr>\n",
       "      <th>3</th>\n",
       "      <td>0.129074</td>\n",
       "      <td>0.003917</td>\n",
       "      <td>0.899341</td>\n",
       "      <td>0.048780</td>\n",
       "      <td>0.110178</td>\n",
       "      <td>0.010516</td>\n",
       "    </tr>\n",
       "    <tr>\n",
       "      <th>4</th>\n",
       "      <td>0.105186</td>\n",
       "      <td>0.005815</td>\n",
       "      <td>0.899374</td>\n",
       "      <td>0.159475</td>\n",
       "      <td>0.091291</td>\n",
       "      <td>0.015401</td>\n",
       "    </tr>\n",
       "    <tr>\n",
       "      <th>...</th>\n",
       "      <td>...</td>\n",
       "      <td>...</td>\n",
       "      <td>...</td>\n",
       "      <td>...</td>\n",
       "      <td>...</td>\n",
       "      <td>...</td>\n",
       "    </tr>\n",
       "    <tr>\n",
       "      <th>16377</th>\n",
       "      <td>0.149699</td>\n",
       "      <td>0.004689</td>\n",
       "      <td>0.899329</td>\n",
       "      <td>0.067542</td>\n",
       "      <td>0.129066</td>\n",
       "      <td>0.012432</td>\n",
       "    </tr>\n",
       "    <tr>\n",
       "      <th>16378</th>\n",
       "      <td>0.133332</td>\n",
       "      <td>0.003880</td>\n",
       "      <td>0.899335</td>\n",
       "      <td>0.031895</td>\n",
       "      <td>0.110178</td>\n",
       "      <td>0.010516</td>\n",
       "    </tr>\n",
       "    <tr>\n",
       "      <th>16379</th>\n",
       "      <td>0.141359</td>\n",
       "      <td>0.011297</td>\n",
       "      <td>0.899340</td>\n",
       "      <td>0.061914</td>\n",
       "      <td>0.129066</td>\n",
       "      <td>0.026032</td>\n",
       "    </tr>\n",
       "    <tr>\n",
       "      <th>16380</th>\n",
       "      <td>0.118198</td>\n",
       "      <td>0.010892</td>\n",
       "      <td>0.899336</td>\n",
       "      <td>0.181989</td>\n",
       "      <td>0.129066</td>\n",
       "      <td>0.029039</td>\n",
       "    </tr>\n",
       "    <tr>\n",
       "      <th>16381</th>\n",
       "      <td>0.151490</td>\n",
       "      <td>0.016119</td>\n",
       "      <td>0.899332</td>\n",
       "      <td>0.039400</td>\n",
       "      <td>0.171039</td>\n",
       "      <td>0.036012</td>\n",
       "    </tr>\n",
       "  </tbody>\n",
       "</table>\n",
       "<p>16382 rows × 6 columns</p>\n",
       "</div>"
      ],
      "text/plain": [
       "              0         1         2         3         4         5\n",
       "0      0.056572  0.001639  0.899430  0.024390  0.048269  0.005976\n",
       "1      0.043008  0.000886  0.899462  0.037523  0.022036  0.003065\n",
       "2      0.057606  0.001132  0.899454  0.086304  0.035677  0.004195\n",
       "3      0.129074  0.003917  0.899341  0.048780  0.110178  0.010516\n",
       "4      0.105186  0.005815  0.899374  0.159475  0.091291  0.015401\n",
       "...         ...       ...       ...       ...       ...       ...\n",
       "16377  0.149699  0.004689  0.899329  0.067542  0.129066  0.012432\n",
       "16378  0.133332  0.003880  0.899335  0.031895  0.110178  0.010516\n",
       "16379  0.141359  0.011297  0.899340  0.061914  0.129066  0.026032\n",
       "16380  0.118198  0.010892  0.899336  0.181989  0.129066  0.029039\n",
       "16381  0.151490  0.016119  0.899332  0.039400  0.171039  0.036012\n",
       "\n",
       "[16382 rows x 6 columns]"
      ]
     },
     "execution_count": 8,
     "metadata": {},
     "output_type": "execute_result"
    }
   ],
   "source": [
    "scaler = MinMaxScaler()\n",
    "X = scaler.fit_transform(X)\n",
    "pd.DataFrame(X)"
   ]
  },
  {
   "cell_type": "code",
   "execution_count": 9,
   "metadata": {},
   "outputs": [],
   "source": [
    "X_train, X_test, y_train, y_test = train_test_split(X,y, test_size=0.3, shuffle=True, random_state=50)"
   ]
  },
  {
   "cell_type": "code",
   "execution_count": 10,
   "metadata": {},
   "outputs": [
    {
     "name": "stdout",
     "output_type": "stream",
     "text": [
      "(11467, 6)\n",
      "(11467,)\n",
      "(4915, 6)\n",
      "(4915,)\n"
     ]
    }
   ],
   "source": [
    "print(X_train.shape)\n",
    "print(y_train.shape)\n",
    "print(X_test.shape)\n",
    "print(y_test.shape)"
   ]
  },
  {
   "cell_type": "code",
   "execution_count": 16,
   "metadata": {},
   "outputs": [
    {
     "data": {
      "text/plain": [
       "DecisionTreeRegressor(random_state=1)"
      ]
     },
     "execution_count": 16,
     "metadata": {},
     "output_type": "execute_result"
    },
    {
     "data": {
      "text/plain": [
       "0.8187182095625636"
      ]
     },
     "execution_count": 16,
     "metadata": {},
     "output_type": "execute_result"
    }
   ],
   "source": [
    "dt = DecisionTreeRegressor(random_state=1)\n",
    "dt.fit(X_train,y_train)\n",
    "dt_predict = dt.predict(X_test)\n",
    "accuracy_score(y_test, dt_predict)\n"
   ]
  },
  {
   "cell_type": "code",
   "execution_count": 18,
   "metadata": {},
   "outputs": [
    {
     "data": {
      "text/plain": [
       "LogisticRegression()"
      ]
     },
     "execution_count": 18,
     "metadata": {},
     "output_type": "execute_result"
    },
    {
     "data": {
      "text/plain": [
       "0.7837232960325534"
      ]
     },
     "execution_count": 18,
     "metadata": {},
     "output_type": "execute_result"
    }
   ],
   "source": [
    "lr = LogisticRegression()\n",
    "lr.fit(X_train, y_train)\n",
    "lr_predict = lr.predict(X_test)\n",
    "accuracy_score(y_test, lr_predict)"
   ]
  },
  {
   "cell_type": "markdown",
   "metadata": {},
   "source": [
    "<p style=\"font-family: Arial; font-size:2.75em;color:purple; font-style:bold\"><br>\n",
    "\n",
    "Question 2 <br><br></p>\n",
    "<p>Import 'FlightDelays.csv'. The data contains flight information between NYC and DC area in January 2004.</p>"
   ]
  },
  {
   "cell_type": "code",
   "execution_count": 20,
   "metadata": {},
   "outputs": [],
   "source": [
    "q2d = pd.read_csv('FlightDelays.csv')"
   ]
  },
  {
   "cell_type": "markdown",
   "metadata": {},
   "source": [
    "1. Import the data. Check for basic information. What data types are the variables? Any missing values? (5 points)"
   ]
  },
  {
   "cell_type": "code",
   "execution_count": 23,
   "metadata": {},
   "outputs": [
    {
     "name": "stdout",
     "output_type": "stream",
     "text": [
      "<class 'pandas.core.frame.DataFrame'>\n",
      "RangeIndex: 2201 entries, 0 to 2200\n",
      "Data columns (total 13 columns):\n",
      " #   Column         Non-Null Count  Dtype \n",
      "---  ------         --------------  ----- \n",
      " 0   CRS_DEP_TIME   2201 non-null   int64 \n",
      " 1   CARRIER        2201 non-null   object\n",
      " 2   DEP_TIME       2201 non-null   int64 \n",
      " 3   DEST           2201 non-null   object\n",
      " 4   DISTANCE       2201 non-null   int64 \n",
      " 5   FL_DATE        2201 non-null   object\n",
      " 6   FL_NUM         2201 non-null   int64 \n",
      " 7   ORIGIN         2201 non-null   object\n",
      " 8   Weather        2201 non-null   int64 \n",
      " 9   DAY_WEEK       2201 non-null   int64 \n",
      " 10  DAY_OF_MONTH   2201 non-null   int64 \n",
      " 11  TAIL_NUM       2201 non-null   object\n",
      " 12  Flight Status  2201 non-null   object\n",
      "dtypes: int64(7), object(6)\n",
      "memory usage: 223.7+ KB\n"
     ]
    }
   ],
   "source": [
    "q2d.info()"
   ]
  },
  {
   "cell_type": "markdown",
   "metadata": {},
   "source": [
    "2. What data type is FL_DATE? Use pd.to_datetime to transfer it to datetime data type. Then check how the variable looks like after the change. (5 points)"
   ]
  },
  {
   "cell_type": "code",
   "execution_count": 27,
   "metadata": {},
   "outputs": [
    {
     "name": "stdout",
     "output_type": "stream",
     "text": [
      "<class 'pandas.core.frame.DataFrame'>\n",
      "RangeIndex: 2201 entries, 0 to 2200\n",
      "Data columns (total 13 columns):\n",
      " #   Column         Non-Null Count  Dtype         \n",
      "---  ------         --------------  -----         \n",
      " 0   CRS_DEP_TIME   2201 non-null   int64         \n",
      " 1   CARRIER        2201 non-null   object        \n",
      " 2   DEP_TIME       2201 non-null   int64         \n",
      " 3   DEST           2201 non-null   object        \n",
      " 4   DISTANCE       2201 non-null   int64         \n",
      " 5   FL_DATE        2201 non-null   datetime64[ns]\n",
      " 6   FL_NUM         2201 non-null   int64         \n",
      " 7   ORIGIN         2201 non-null   object        \n",
      " 8   Weather        2201 non-null   int64         \n",
      " 9   DAY_WEEK       2201 non-null   int64         \n",
      " 10  DAY_OF_MONTH   2201 non-null   int64         \n",
      " 11  TAIL_NUM       2201 non-null   object        \n",
      " 12  Flight Status  2201 non-null   object        \n",
      "dtypes: datetime64[ns](1), int64(7), object(5)\n",
      "memory usage: 223.7+ KB\n"
     ]
    }
   ],
   "source": [
    "q2d['FL_DATE'] = pd.to_datetime(q2d['FL_DATE'])\n",
    "q2d.info()"
   ]
  },
  {
   "cell_type": "markdown",
   "metadata": {},
   "source": [
    "3. Find the number of flights on each day. Plot it. (14 points)"
   ]
  },
  {
   "cell_type": "code",
   "execution_count": 30,
   "metadata": {},
   "outputs": [
    {
     "data": {
      "image/png": "[encoded data removed]",
      "text/plain": [
       "<Figure size 432x288 with 1 Axes>"
      ]
     },
     "metadata": {
      "needs_background": "light"
     },
     "output_type": "display_data"
    }
   ],
   "source": [
    "a = sns.countplot(x='DAY_OF_MONTH', data=q2d)"
   ]
  },
  {
   "cell_type": "markdown",
   "metadata": {},
   "source": [
    "4. Check variable \"DEP_TIME\". It is a number, but it actually means a time. For instance, 1455 means 14:55 in the afternoon. Create an \"Hour' variable that get the hour of the departure time, e.g. 1455 means the hour is 14. (Hint: what mathematical operation can help you get 14 from 1455?) (10 points)"
   ]
  },
  {
   "cell_type": "code",
   "execution_count": null,
   "metadata": {},
   "outputs": [],
   "source": []
  },
  {
   "cell_type": "markdown",
   "metadata": {},
   "source": [
    "5. Based on the hour, create a new variable \"time_of_day\" as \"day\" and \"night\". You can have your own definition of day and night, e.g. 6-18 as day 19-5 as night. (10 points)"
   ]
  },
  {
   "cell_type": "code",
   "execution_count": null,
   "metadata": {},
   "outputs": [],
   "source": []
  },
  {
   "cell_type": "markdown",
   "metadata": {},
   "source": [
    "6. Find the number of flights for each pair of DEST and ORIGIN. (Hint: groupby() to identify the unique pairs of DEST and ORIGIN and count records use any other variables). Which two airports have the most flights? (8 points)"
   ]
  },
  {
   "cell_type": "code",
   "execution_count": null,
   "metadata": {},
   "outputs": [],
   "source": []
  },
  {
   "cell_type": "markdown",
   "metadata": {},
   "source": [
    "7. Change \"Flight_Status\" to dummies. Create a pivot table that gets the ontime rate based on \"Weather\" and \"DAY_OF_WEEK\". \"DAY_OF_WEEK\" indicates which day of the week the flight is, e.g. 4 means Thursday. (Hint: refer to our titanic example.) (10 points)"
   ]
  },
  {
   "cell_type": "code",
   "execution_count": null,
   "metadata": {},
   "outputs": [],
   "source": []
  },
  {
   "cell_type": "markdown",
   "metadata": {},
   "source": [
    "8. Find the flights between LGA and DCA. What is their ontime rate? (8 points)"
   ]
  },
  {
   "cell_type": "code",
   "execution_count": null,
   "metadata": {},
   "outputs": [],
   "source": []
  },
  {
   "cell_type": "markdown",
   "metadata": {},
   "source": [
    "Bonus Questions (15 points)<br>\n",
    "Take the Google App Playstore again. Instead of using rating, we use a weighted rating that also takes the number of ratings into account. The formula is as follows: WR+(1-W)Ra, R is the rating of the App, Ra is the average rating of all Apps, W is the ratio between the number of ratings for the App and the maximum number of ratings of all Apps.<br>\n",
    "Create a weighted rating variable based on the formula."
   ]
  },
  {
   "cell_type": "code",
   "execution_count": null,
   "metadata": {},
   "outputs": [],
   "source": []
  },
  {
   "cell_type": "markdown",
   "metadata": {},
   "source": [
    "\n"
   ]
  }
 ],
 "metadata": {
  "kernelspec": {
   "display_name": "Python 3",
   "language": "python",
   "name": "python3"
  },
  "language_info": {
   "codemirror_mode": {
    "name": "ipython",
    "version": 3
   },
   "file_extension": ".py",
   "mimetype": "text/x-python",
   "name": "python",
   "nbconvert_exporter": "python",
   "pygments_lexer": "ipython3",
   "version": "3.8.5"
  }
 },
 "nbformat": 4,
 "nbformat_minor": 4
}
